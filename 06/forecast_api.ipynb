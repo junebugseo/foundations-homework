{
 "cells": [
  {
   "cell_type": "code",
   "execution_count": 1,
   "metadata": {
    "collapsed": false
   },
   "outputs": [],
   "source": [
    "import requests\n",
    "#apikey='4230d91e7452245b2479aec2fc16870d'"
   ]
  },
  {
   "cell_type": "markdown",
   "metadata": {},
   "source": [
    "### 1) Make a request from the Forecast.io API for where you were born (or lived, or want to visit!)."
   ]
  },
  {
   "cell_type": "code",
   "execution_count": 8,
   "metadata": {
    "collapsed": false
   },
   "outputs": [],
   "source": [
    "# SEOUL = '37.532600,127.024612'\n",
    "response = requests.get(\"https://api.forecast.io/forecast/4230d91e7452245b2479aec2fc16870d/37.532600,127.024612\")\n",
    "data = response.json()"
   ]
  },
  {
   "cell_type": "code",
   "execution_count": 10,
   "metadata": {
    "collapsed": false
   },
   "outputs": [
    {
     "data": {
      "text/plain": [
       "dict_keys(['daily', 'hourly', 'timezone', 'currently', 'flags', 'latitude', 'longitude', 'offset'])"
      ]
     },
     "execution_count": 10,
     "metadata": {},
     "output_type": "execute_result"
    }
   ],
   "source": [
    "data.keys()"
   ]
  },
  {
   "cell_type": "code",
   "execution_count": 11,
   "metadata": {
    "collapsed": false
   },
   "outputs": [
    {
     "data": {
      "text/plain": [
       "'Asia/Seoul'"
      ]
     },
     "execution_count": 11,
     "metadata": {},
     "output_type": "execute_result"
    }
   ],
   "source": [
    "data['timezone']"
   ]
  },
  {
   "cell_type": "markdown",
   "metadata": {},
   "source": [
    "### 2) What's the current wind speed? How much warmer does it feel than it actually is?"
   ]
  },
  {
   "cell_type": "code",
   "execution_count": 13,
   "metadata": {
    "collapsed": false
   },
   "outputs": [
    {
     "data": {
      "text/plain": [
       "5.09"
      ]
     },
     "execution_count": 13,
     "metadata": {},
     "output_type": "execute_result"
    }
   ],
   "source": [
    "# Wind speed\n",
    "data['currently']['windSpeed']"
   ]
  },
  {
   "cell_type": "code",
   "execution_count": 15,
   "metadata": {
    "collapsed": false
   },
   "outputs": [
    {
     "data": {
      "text/plain": [
       "0.0"
      ]
     },
     "execution_count": 15,
     "metadata": {},
     "output_type": "execute_result"
    }
   ],
   "source": [
    "# How much warmer does it feel than it actually is\n",
    "data['currently']['apparentTemperature']-data['currently']['temperature']"
   ]
  },
  {
   "cell_type": "markdown",
   "metadata": {},
   "source": [
    "### 3) The first daily forecast is the forecast for today. For the place you decided on up above, how much of the moon is currently visible?"
   ]
  },
  {
   "cell_type": "code",
   "execution_count": 44,
   "metadata": {
    "collapsed": false
   },
   "outputs": [
    {
     "name": "stdout",
     "output_type": "stream",
     "text": [
      "0.27\n"
     ]
    }
   ],
   "source": [
    "daily = data['daily']['data']\n",
    "print (daily[0]['moonPhase'])"
   ]
  },
  {
   "cell_type": "markdown",
   "metadata": {},
   "source": [
    "### 4) What's the difference between the high and low temperatures for today?"
   ]
  },
  {
   "cell_type": "code",
   "execution_count": 45,
   "metadata": {
    "collapsed": false
   },
   "outputs": [
    {
     "data": {
      "text/plain": [
       "23.78"
      ]
     },
     "execution_count": 45,
     "metadata": {},
     "output_type": "execute_result"
    }
   ],
   "source": [
    "daily[0]['temperatureMax']-daily[0]['temperatureMin']"
   ]
  },
  {
   "cell_type": "markdown",
   "metadata": {},
   "source": [
    "### 5) Loop through the daily forecast, printing out the next week's worth of predictions. I'd like to know the high temperature for each day, and whether it's hot, warm, or cold, based on what temperatures you think are hot, warm or cold."
   ]
  },
  {
   "cell_type": "code",
   "execution_count": 51,
   "metadata": {
    "collapsed": false
   },
   "outputs": [
    {
     "name": "stdout",
     "output_type": "stream",
     "text": [
      "82.44\n",
      "Oh, it's warm\n",
      "84.19\n",
      "Oh, it's warm\n",
      "81.25\n",
      "Oh, it's warm\n",
      "75.64\n",
      "Oh, it's cold\n",
      "82.15\n",
      "Oh, it's warm\n",
      "80.78\n",
      "Oh, it's warm\n",
      "79.92\n",
      "Oh, it's cold\n",
      "83.89\n",
      "Oh, it's warm\n"
     ]
    }
   ],
   "source": [
    "for temmax in daily:\n",
    "    print (temmax['temperatureMax'])\n",
    "    if temmax['temperatureMax'] <80:\n",
    "        print (\"Oh, it's cold\")\n",
    "    else:\n",
    "        print(\"Oh, it's warm\")"
   ]
  },
  {
   "cell_type": "markdown",
   "metadata": {},
   "source": [
    "### 6) What's the weather looking like for the rest of today in Miami, Florida? I'd like to know the temperature for every hour, and if it's going to have cloud cover of more than 0.5 say \"{temperature} and cloudy\" instead of just the temperature."
   ]
  },
  {
   "cell_type": "code",
   "execution_count": 52,
   "metadata": {
    "collapsed": true
   },
   "outputs": [],
   "source": [
    "# Miami, Florida = 25.787676,-80.224145\n",
    "response = requests.get(\"https://api.forecast.io/forecast/4230d91e7452245b2479aec2fc16870d/25.787676,-80.224145\")\n",
    "data = response.json()"
   ]
  },
  {
   "cell_type": "code",
   "execution_count": 53,
   "metadata": {
    "collapsed": false
   },
   "outputs": [
    {
     "data": {
      "text/plain": [
       "'America/New_York'"
      ]
     },
     "execution_count": 53,
     "metadata": {},
     "output_type": "execute_result"
    }
   ],
   "source": [
    "data['timezone']"
   ]
  },
  {
   "cell_type": "code",
   "execution_count": 61,
   "metadata": {
    "collapsed": false
   },
   "outputs": [
    {
     "name": "stdout",
     "output_type": "stream",
     "text": [
      "81.16\n",
      "80.27\n",
      "79.55\n",
      "78.54\n",
      "77.55\n",
      "76.35\n",
      "75.69 and cloudy\n",
      "75.32\n",
      "76.57\n",
      "78.86\n",
      "81.36\n",
      "83.17\n",
      "84.64\n",
      "85.94\n",
      "87.43\n",
      "88.53\n",
      "87.91\n",
      "86.73\n",
      "85.83\n",
      "84.73\n",
      "83.79\n",
      "82.77\n",
      "81.33\n",
      "80.09\n",
      "80.46\n",
      "79.69\n",
      "78.85\n",
      "77.91\n",
      "76.82\n",
      "75.93\n",
      "76.59\n",
      "77.77\n",
      "79\n",
      "80.12\n",
      "81.51\n",
      "83.3\n",
      "85.05\n",
      "86.44\n",
      "87.7\n",
      "88.45\n",
      "87.65\n",
      "86.14\n",
      "84.91\n",
      "83.82\n",
      "82.94\n",
      "82.37\n",
      "81.89\n",
      "81.37\n",
      "80.76\n"
     ]
    }
   ],
   "source": [
    "hourly = data['hourly']['data']\n",
    "for weather in hourly:\n",
    "    if weather['cloudCover'] > 0.5:\n",
    "        print (weather['temperature'],\"and cloudy\")\n",
    "    else:\n",
    "        print(weather['temperature'])\n",
    "\n",
    "    "
   ]
  },
  {
   "cell_type": "markdown",
   "metadata": {},
   "source": [
    "### 7) What was the temperature in Central Park on Christmas Day, 1980? How about 1990? 2000?"
   ]
  },
  {
   "cell_type": "code",
   "execution_count": 80,
   "metadata": {
    "collapsed": false
   },
   "outputs": [],
   "source": [
    "# 1980-12-25 = '346550400'\n",
    "# Central Park = '40.785091,-73.968285'\n",
    "response = requests.get(\"https://api.forecast.io/forecast/4230d91e7452245b2479aec2fc16870d/40.785091,-73.968285,346550400\")\n",
    "data = response.json()"
   ]
  },
  {
   "cell_type": "code",
   "execution_count": 81,
   "metadata": {
    "collapsed": false
   },
   "outputs": [
    {
     "name": "stdout",
     "output_type": "stream",
     "text": [
      "It was 33.95 degree in Central Park on Christmas Day in 1980\n"
     ]
    }
   ],
   "source": [
    "data['currently']['temperature']\n",
    "print (\"It was\", data['currently']['temperature'], \"degree in Central Park on Christmas Day in 1980\")"
   ]
  },
  {
   "cell_type": "code",
   "execution_count": 84,
   "metadata": {
    "collapsed": true
   },
   "outputs": [],
   "source": [
    "# 1990-12-25 = '662083200'\n",
    "response = requests.get(\"https://api.forecast.io/forecast/4230d91e7452245b2479aec2fc16870d/40.785091,-73.968285,662083200\")\n",
    "data = response.json()"
   ]
  },
  {
   "cell_type": "code",
   "execution_count": 85,
   "metadata": {
    "collapsed": false
   },
   "outputs": [
    {
     "name": "stdout",
     "output_type": "stream",
     "text": [
      "It was 36.71 degree in Central Park on Christmas Day in 1990\n"
     ]
    }
   ],
   "source": [
    "print (\"It was\", data['currently']['temperature'], \"degree in Central Park on Christmas Day in 1990\")"
   ]
  },
  {
   "cell_type": "code",
   "execution_count": 86,
   "metadata": {
    "collapsed": true
   },
   "outputs": [],
   "source": [
    "# 2000-12-25 = '977702400'\n",
    "response = requests.get(\"https://api.forecast.io/forecast/4230d91e7452245b2479aec2fc16870d/40.785091,-73.968285,977702400\")\n",
    "data = response.json()"
   ]
  },
  {
   "cell_type": "code",
   "execution_count": 87,
   "metadata": {
    "collapsed": false
   },
   "outputs": [
    {
     "name": "stdout",
     "output_type": "stream",
     "text": [
      "It was 20.77 degree in Central Park on Christmas Day in 2000\n"
     ]
    }
   ],
   "source": [
    "print (\"It was\", data['currently']['temperature'], \"degree in Central Park on Christmas Day in 2000\")"
   ]
  }
 ],
 "metadata": {
  "kernelspec": {
   "display_name": "Python 3",
   "language": "python",
   "name": "python3"
  },
  "language_info": {
   "codemirror_mode": {
    "name": "ipython",
    "version": 3
   },
   "file_extension": ".py",
   "mimetype": "text/x-python",
   "name": "python",
   "nbconvert_exporter": "python",
   "pygments_lexer": "ipython3",
   "version": "3.5.1"
  }
 },
 "nbformat": 4,
 "nbformat_minor": 0
}
