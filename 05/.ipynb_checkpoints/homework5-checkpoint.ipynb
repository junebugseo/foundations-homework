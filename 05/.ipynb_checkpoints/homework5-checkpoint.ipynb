{
 "cells": [
  {
   "cell_type": "code",
   "execution_count": 2,
   "metadata": {
    "collapsed": true
   },
   "outputs": [],
   "source": [
    "import requests"
   ]
  },
  {
   "cell_type": "markdown",
   "metadata": {},
   "source": [
    "1) With \"Lil Wayne\" and \"Lil Kim\" there are a lot of \"Lil\" musicians. Do a search and print a list of 50 that are playable in the USA (or the country of your choice), along with their popularity score."
   ]
  },
  {
   "cell_type": "code",
   "execution_count": 3,
   "metadata": {
    "collapsed": false
   },
   "outputs": [],
   "source": [
    "response = requests.get('https://api.spotify.com/v1/search?q=lil&type=artist&?country=US&limit=50')\n",
    "data = response.json()\n"
   ]
  },
  {
   "cell_type": "code",
   "execution_count": 4,
   "metadata": {
    "collapsed": false
   },
   "outputs": [
    {
     "data": {
      "text/plain": [
       "dict"
      ]
     },
     "execution_count": 4,
     "metadata": {},
     "output_type": "execute_result"
    }
   ],
   "source": [
    "type(data)"
   ]
  },
  {
   "cell_type": "code",
   "execution_count": 5,
   "metadata": {
    "collapsed": false
   },
   "outputs": [
    {
     "data": {
      "text/plain": [
       "dict_keys(['artists'])"
      ]
     },
     "execution_count": 5,
     "metadata": {},
     "output_type": "execute_result"
    }
   ],
   "source": [
    "data.keys()"
   ]
  },
  {
   "cell_type": "code",
   "execution_count": 6,
   "metadata": {
    "collapsed": false
   },
   "outputs": [
    {
     "data": {
      "text/plain": [
       "dict_keys(['offset', 'next', 'href', 'items', 'total', 'limit', 'previous'])"
      ]
     },
     "execution_count": 6,
     "metadata": {},
     "output_type": "execute_result"
    }
   ],
   "source": [
    "data['artists'].keys()"
   ]
  },
  {
   "cell_type": "code",
   "execution_count": 7,
   "metadata": {
    "collapsed": true
   },
   "outputs": [],
   "source": [
    "artists = data['artists']['items']"
   ]
  },
  {
   "cell_type": "code",
   "execution_count": 8,
   "metadata": {
    "collapsed": false
   },
   "outputs": [
    {
     "name": "stdout",
     "output_type": "stream",
     "text": [
      "Lil Wayne 86\n",
      "Lil Yachty 72\n",
      "Lil Uzi Vert 72\n",
      "Lil Dicky 68\n",
      "Boosie Badazz 67\n",
      "Lil Jon 72\n",
      "King Lil G 61\n",
      "Lil Durk 60\n",
      "Lil Jon & The East Side Boyz 60\n",
      "Lil Bibby 54\n",
      "G Herbo 53\n",
      "Lil Rob 50\n",
      "Lil Reese 50\n",
      "Lil Keke 48\n",
      "Bow Wow 57\n",
      "Lil Scrappy 48\n",
      "Lil Wyte 50\n",
      "Lil Blood 45\n",
      "Lil Snupe 45\n",
      "Lil Mama 45\n",
      "Lil B 44\n",
      "Lil' Kim 62\n",
      "Lil Cuete 40\n",
      "Lil Phat 39\n",
      "Lil Debbie 43\n",
      "Lil Twist 39\n",
      "Lil Trill 37\n",
      "Lil Twon 38\n",
      "Lil AJ 37\n",
      "Lil Lonnie 37\n",
      "Lil Boom 35\n",
      "Lil Goofy 35\n",
      "Mr. Lil One 36\n",
      "Lil Haiti 36\n",
      "Lil Flash 38\n",
      "Lil Kesh 39\n",
      "Lil Cray 35\n",
      "Lil Silva 43\n",
      "Lil Rue 34\n",
      "Lil Eddie 41\n",
      "Lil Yase 33\n",
      "Lil Wayne, DJ Drama 35\n",
      "Lil Suzy 34\n",
      "Lil Mouse 34\n",
      "Lil C 33\n",
      "Lil Rick 39\n",
      "Lil June 32\n",
      "Lil E 34\n",
      "Lil Fate 34\n",
      "Lil' Flip 49\n"
     ]
    }
   ],
   "source": [
    "for artist in artists:\n",
    "    print(artist['name'], artist['popularity'])"
   ]
  },
  {
   "cell_type": "markdown",
   "metadata": {},
   "source": [
    "2) What genres are most represented in the search results? Edit your previous printout to also display a list of their genres in the format \"GENRE_1, GENRE_2, GENRE_3\". If there are no genres, print \"No genres listed\".\n",
    "Tip: \"how to join a list Python\" might be a helpful search"
   ]
  },
  {
   "cell_type": "code",
   "execution_count": 11,
   "metadata": {
    "collapsed": false
   },
   "outputs": [
    {
     "ename": "SyntaxError",
     "evalue": "invalid syntax (<ipython-input-11-0354c5543f32>, line 5)",
     "output_type": "error",
     "traceback": [
      "\u001b[0;36m  File \u001b[0;32m\"<ipython-input-11-0354c5543f32>\"\u001b[0;36m, line \u001b[0;32m5\u001b[0m\n\u001b[0;31m    else:\u001b[0m\n\u001b[0m       ^\u001b[0m\n\u001b[0;31mSyntaxError\u001b[0m\u001b[0;31m:\u001b[0m invalid syntax\n"
     ]
    }
   ],
   "source": [
    "for artist in artists:\n",
    "    print (artist['name'], artist['popularity'])\n",
    "    if len(artist['genres']) != 0:\n",
    "        print(\", \".join(artist['genres'])\n",
    "    else:\n",
    "        print (\"No genres listed\")"
   ]
  },
  {
   "cell_type": "code",
   "execution_count": 51,
   "metadata": {
    "collapsed": false
   },
   "outputs": [
    {
     "name": "stdout",
     "output_type": "stream",
     "text": [
      "ALL GENRES WE'VE HEARD OF: []\n",
      "Current artist has: ['dirty south rap', 'pop rap', 'southern hip hop', 'trap music']\n",
      "ALL GENRES WE'VE HEARD OF: ['dirty south rap', 'pop rap', 'southern hip hop', 'trap music']\n",
      "Current artist has: []\n",
      "ALL GENRES WE'VE HEARD OF: ['dirty south rap', 'pop rap', 'southern hip hop', 'trap music']\n",
      "Current artist has: []\n",
      "ALL GENRES WE'VE HEARD OF: ['dirty south rap', 'pop rap', 'southern hip hop', 'trap music']\n",
      "Current artist has: []\n",
      "ALL GENRES WE'VE HEARD OF: ['dirty south rap', 'pop rap', 'southern hip hop', 'trap music']\n",
      "Current artist has: []\n",
      "ALL GENRES WE'VE HEARD OF: ['dirty south rap', 'pop rap', 'southern hip hop', 'trap music']\n",
      "Current artist has: ['crunk', 'dirty south rap', 'southern hip hop']\n",
      "ALL GENRES WE'VE HEARD OF: ['dirty south rap', 'pop rap', 'southern hip hop', 'trap music', 'crunk', 'dirty south rap', 'southern hip hop']\n",
      "Current artist has: []\n",
      "ALL GENRES WE'VE HEARD OF: ['dirty south rap', 'pop rap', 'southern hip hop', 'trap music', 'crunk', 'dirty south rap', 'southern hip hop']\n",
      "Current artist has: []\n",
      "ALL GENRES WE'VE HEARD OF: ['dirty south rap', 'pop rap', 'southern hip hop', 'trap music', 'crunk', 'dirty south rap', 'southern hip hop']\n",
      "Current artist has: []\n",
      "ALL GENRES WE'VE HEARD OF: ['dirty south rap', 'pop rap', 'southern hip hop', 'trap music', 'crunk', 'dirty south rap', 'southern hip hop']\n",
      "Current artist has: []\n",
      "ALL GENRES WE'VE HEARD OF: ['dirty south rap', 'pop rap', 'southern hip hop', 'trap music', 'crunk', 'dirty south rap', 'southern hip hop']\n",
      "Current artist has: []\n",
      "ALL GENRES WE'VE HEARD OF: ['dirty south rap', 'pop rap', 'southern hip hop', 'trap music', 'crunk', 'dirty south rap', 'southern hip hop']\n",
      "Current artist has: ['chicano rap', 'latin hip hop']\n",
      "ALL GENRES WE'VE HEARD OF: ['dirty south rap', 'pop rap', 'southern hip hop', 'trap music', 'crunk', 'dirty south rap', 'southern hip hop', 'chicano rap', 'latin hip hop']\n",
      "Current artist has: []\n",
      "ALL GENRES WE'VE HEARD OF: ['dirty south rap', 'pop rap', 'southern hip hop', 'trap music', 'crunk', 'dirty south rap', 'southern hip hop', 'chicano rap', 'latin hip hop']\n",
      "Current artist has: []\n",
      "ALL GENRES WE'VE HEARD OF: ['dirty south rap', 'pop rap', 'southern hip hop', 'trap music', 'crunk', 'dirty south rap', 'southern hip hop', 'chicano rap', 'latin hip hop']\n",
      "Current artist has: ['hip pop', 'pop rap']\n",
      "ALL GENRES WE'VE HEARD OF: ['dirty south rap', 'pop rap', 'southern hip hop', 'trap music', 'crunk', 'dirty south rap', 'southern hip hop', 'chicano rap', 'latin hip hop', 'hip pop', 'pop rap']\n",
      "Current artist has: ['crunk', 'dirty south rap', 'southern hip hop', 'trap music']\n",
      "ALL GENRES WE'VE HEARD OF: ['dirty south rap', 'pop rap', 'southern hip hop', 'trap music', 'crunk', 'dirty south rap', 'southern hip hop', 'chicano rap', 'latin hip hop', 'hip pop', 'pop rap', 'crunk', 'dirty south rap', 'southern hip hop', 'trap music']\n",
      "Current artist has: ['juggalo']\n",
      "ALL GENRES WE'VE HEARD OF: ['dirty south rap', 'pop rap', 'southern hip hop', 'trap music', 'crunk', 'dirty south rap', 'southern hip hop', 'chicano rap', 'latin hip hop', 'hip pop', 'pop rap', 'crunk', 'dirty south rap', 'southern hip hop', 'trap music', 'juggalo']\n",
      "Current artist has: []\n",
      "ALL GENRES WE'VE HEARD OF: ['dirty south rap', 'pop rap', 'southern hip hop', 'trap music', 'crunk', 'dirty south rap', 'southern hip hop', 'chicano rap', 'latin hip hop', 'hip pop', 'pop rap', 'crunk', 'dirty south rap', 'southern hip hop', 'trap music', 'juggalo']\n",
      "Current artist has: []\n",
      "ALL GENRES WE'VE HEARD OF: ['dirty south rap', 'pop rap', 'southern hip hop', 'trap music', 'crunk', 'dirty south rap', 'southern hip hop', 'chicano rap', 'latin hip hop', 'hip pop', 'pop rap', 'crunk', 'dirty south rap', 'southern hip hop', 'trap music', 'juggalo']\n",
      "Current artist has: ['hip pop']\n",
      "ALL GENRES WE'VE HEARD OF: ['dirty south rap', 'pop rap', 'southern hip hop', 'trap music', 'crunk', 'dirty south rap', 'southern hip hop', 'chicano rap', 'latin hip hop', 'hip pop', 'pop rap', 'crunk', 'dirty south rap', 'southern hip hop', 'trap music', 'juggalo', 'hip pop']\n",
      "Current artist has: []\n",
      "ALL GENRES WE'VE HEARD OF: ['dirty south rap', 'pop rap', 'southern hip hop', 'trap music', 'crunk', 'dirty south rap', 'southern hip hop', 'chicano rap', 'latin hip hop', 'hip pop', 'pop rap', 'crunk', 'dirty south rap', 'southern hip hop', 'trap music', 'juggalo', 'hip pop']\n",
      "Current artist has: ['hip pop']\n",
      "ALL GENRES WE'VE HEARD OF: ['dirty south rap', 'pop rap', 'southern hip hop', 'trap music', 'crunk', 'dirty south rap', 'southern hip hop', 'chicano rap', 'latin hip hop', 'hip pop', 'pop rap', 'crunk', 'dirty south rap', 'southern hip hop', 'trap music', 'juggalo', 'hip pop', 'hip pop']\n",
      "Current artist has: ['chicano rap']\n",
      "ALL GENRES WE'VE HEARD OF: ['dirty south rap', 'pop rap', 'southern hip hop', 'trap music', 'crunk', 'dirty south rap', 'southern hip hop', 'chicano rap', 'latin hip hop', 'hip pop', 'pop rap', 'crunk', 'dirty south rap', 'southern hip hop', 'trap music', 'juggalo', 'hip pop', 'hip pop', 'chicano rap']\n",
      "Current artist has: []\n",
      "ALL GENRES WE'VE HEARD OF: ['dirty south rap', 'pop rap', 'southern hip hop', 'trap music', 'crunk', 'dirty south rap', 'southern hip hop', 'chicano rap', 'latin hip hop', 'hip pop', 'pop rap', 'crunk', 'dirty south rap', 'southern hip hop', 'trap music', 'juggalo', 'hip pop', 'hip pop', 'chicano rap']\n",
      "Current artist has: []\n",
      "ALL GENRES WE'VE HEARD OF: ['dirty south rap', 'pop rap', 'southern hip hop', 'trap music', 'crunk', 'dirty south rap', 'southern hip hop', 'chicano rap', 'latin hip hop', 'hip pop', 'pop rap', 'crunk', 'dirty south rap', 'southern hip hop', 'trap music', 'juggalo', 'hip pop', 'hip pop', 'chicano rap']\n",
      "Current artist has: ['jerk']\n",
      "ALL GENRES WE'VE HEARD OF: ['dirty south rap', 'pop rap', 'southern hip hop', 'trap music', 'crunk', 'dirty south rap', 'southern hip hop', 'chicano rap', 'latin hip hop', 'hip pop', 'pop rap', 'crunk', 'dirty south rap', 'southern hip hop', 'trap music', 'juggalo', 'hip pop', 'hip pop', 'chicano rap', 'jerk']\n",
      "Current artist has: ['deep trap']\n",
      "ALL GENRES WE'VE HEARD OF: ['dirty south rap', 'pop rap', 'southern hip hop', 'trap music', 'crunk', 'dirty south rap', 'southern hip hop', 'chicano rap', 'latin hip hop', 'hip pop', 'pop rap', 'crunk', 'dirty south rap', 'southern hip hop', 'trap music', 'juggalo', 'hip pop', 'hip pop', 'chicano rap', 'jerk', 'deep trap']\n",
      "Current artist has: []\n",
      "ALL GENRES WE'VE HEARD OF: ['dirty south rap', 'pop rap', 'southern hip hop', 'trap music', 'crunk', 'dirty south rap', 'southern hip hop', 'chicano rap', 'latin hip hop', 'hip pop', 'pop rap', 'crunk', 'dirty south rap', 'southern hip hop', 'trap music', 'juggalo', 'hip pop', 'hip pop', 'chicano rap', 'jerk', 'deep trap']\n",
      "Current artist has: []\n",
      "ALL GENRES WE'VE HEARD OF: ['dirty south rap', 'pop rap', 'southern hip hop', 'trap music', 'crunk', 'dirty south rap', 'southern hip hop', 'chicano rap', 'latin hip hop', 'hip pop', 'pop rap', 'crunk', 'dirty south rap', 'southern hip hop', 'trap music', 'juggalo', 'hip pop', 'hip pop', 'chicano rap', 'jerk', 'deep trap']\n",
      "Current artist has: []\n",
      "ALL GENRES WE'VE HEARD OF: ['dirty south rap', 'pop rap', 'southern hip hop', 'trap music', 'crunk', 'dirty south rap', 'southern hip hop', 'chicano rap', 'latin hip hop', 'hip pop', 'pop rap', 'crunk', 'dirty south rap', 'southern hip hop', 'trap music', 'juggalo', 'hip pop', 'hip pop', 'chicano rap', 'jerk', 'deep trap']\n",
      "Current artist has: []\n",
      "ALL GENRES WE'VE HEARD OF: ['dirty south rap', 'pop rap', 'southern hip hop', 'trap music', 'crunk', 'dirty south rap', 'southern hip hop', 'chicano rap', 'latin hip hop', 'hip pop', 'pop rap', 'crunk', 'dirty south rap', 'southern hip hop', 'trap music', 'juggalo', 'hip pop', 'hip pop', 'chicano rap', 'jerk', 'deep trap']\n",
      "Current artist has: []\n",
      "ALL GENRES WE'VE HEARD OF: ['dirty south rap', 'pop rap', 'southern hip hop', 'trap music', 'crunk', 'dirty south rap', 'southern hip hop', 'chicano rap', 'latin hip hop', 'hip pop', 'pop rap', 'crunk', 'dirty south rap', 'southern hip hop', 'trap music', 'juggalo', 'hip pop', 'hip pop', 'chicano rap', 'jerk', 'deep trap']\n",
      "Current artist has: ['chicano rap']\n",
      "ALL GENRES WE'VE HEARD OF: ['dirty south rap', 'pop rap', 'southern hip hop', 'trap music', 'crunk', 'dirty south rap', 'southern hip hop', 'chicano rap', 'latin hip hop', 'hip pop', 'pop rap', 'crunk', 'dirty south rap', 'southern hip hop', 'trap music', 'juggalo', 'hip pop', 'hip pop', 'chicano rap', 'jerk', 'deep trap', 'chicano rap']\n",
      "Current artist has: []\n",
      "ALL GENRES WE'VE HEARD OF: ['dirty south rap', 'pop rap', 'southern hip hop', 'trap music', 'crunk', 'dirty south rap', 'southern hip hop', 'chicano rap', 'latin hip hop', 'hip pop', 'pop rap', 'crunk', 'dirty south rap', 'southern hip hop', 'trap music', 'juggalo', 'hip pop', 'hip pop', 'chicano rap', 'jerk', 'deep trap', 'chicano rap']\n",
      "Current artist has: []\n",
      "ALL GENRES WE'VE HEARD OF: ['dirty south rap', 'pop rap', 'southern hip hop', 'trap music', 'crunk', 'dirty south rap', 'southern hip hop', 'chicano rap', 'latin hip hop', 'hip pop', 'pop rap', 'crunk', 'dirty south rap', 'southern hip hop', 'trap music', 'juggalo', 'hip pop', 'hip pop', 'chicano rap', 'jerk', 'deep trap', 'chicano rap']\n",
      "Current artist has: []\n",
      "ALL GENRES WE'VE HEARD OF: ['dirty south rap', 'pop rap', 'southern hip hop', 'trap music', 'crunk', 'dirty south rap', 'southern hip hop', 'chicano rap', 'latin hip hop', 'hip pop', 'pop rap', 'crunk', 'dirty south rap', 'southern hip hop', 'trap music', 'juggalo', 'hip pop', 'hip pop', 'chicano rap', 'jerk', 'deep trap', 'chicano rap']\n",
      "Current artist has: []\n",
      "ALL GENRES WE'VE HEARD OF: ['dirty south rap', 'pop rap', 'southern hip hop', 'trap music', 'crunk', 'dirty south rap', 'southern hip hop', 'chicano rap', 'latin hip hop', 'hip pop', 'pop rap', 'crunk', 'dirty south rap', 'southern hip hop', 'trap music', 'juggalo', 'hip pop', 'hip pop', 'chicano rap', 'jerk', 'deep trap', 'chicano rap']\n",
      "Current artist has: []\n",
      "ALL GENRES WE'VE HEARD OF: ['dirty south rap', 'pop rap', 'southern hip hop', 'trap music', 'crunk', 'dirty south rap', 'southern hip hop', 'chicano rap', 'latin hip hop', 'hip pop', 'pop rap', 'crunk', 'dirty south rap', 'southern hip hop', 'trap music', 'juggalo', 'hip pop', 'hip pop', 'chicano rap', 'jerk', 'deep trap', 'chicano rap']\n",
      "Current artist has: []\n",
      "ALL GENRES WE'VE HEARD OF: ['dirty south rap', 'pop rap', 'southern hip hop', 'trap music', 'crunk', 'dirty south rap', 'southern hip hop', 'chicano rap', 'latin hip hop', 'hip pop', 'pop rap', 'crunk', 'dirty south rap', 'southern hip hop', 'trap music', 'juggalo', 'hip pop', 'hip pop', 'chicano rap', 'jerk', 'deep trap', 'chicano rap']\n",
      "Current artist has: []\n",
      "ALL GENRES WE'VE HEARD OF: ['dirty south rap', 'pop rap', 'southern hip hop', 'trap music', 'crunk', 'dirty south rap', 'southern hip hop', 'chicano rap', 'latin hip hop', 'hip pop', 'pop rap', 'crunk', 'dirty south rap', 'southern hip hop', 'trap music', 'juggalo', 'hip pop', 'hip pop', 'chicano rap', 'jerk', 'deep trap', 'chicano rap']\n",
      "Current artist has: []\n",
      "ALL GENRES WE'VE HEARD OF: ['dirty south rap', 'pop rap', 'southern hip hop', 'trap music', 'crunk', 'dirty south rap', 'southern hip hop', 'chicano rap', 'latin hip hop', 'hip pop', 'pop rap', 'crunk', 'dirty south rap', 'southern hip hop', 'trap music', 'juggalo', 'hip pop', 'hip pop', 'chicano rap', 'jerk', 'deep trap', 'chicano rap']\n",
      "Current artist has: []\n",
      "ALL GENRES WE'VE HEARD OF: ['dirty south rap', 'pop rap', 'southern hip hop', 'trap music', 'crunk', 'dirty south rap', 'southern hip hop', 'chicano rap', 'latin hip hop', 'hip pop', 'pop rap', 'crunk', 'dirty south rap', 'southern hip hop', 'trap music', 'juggalo', 'hip pop', 'hip pop', 'chicano rap', 'jerk', 'deep trap', 'chicano rap']\n",
      "Current artist has: ['freestyle']\n",
      "ALL GENRES WE'VE HEARD OF: ['dirty south rap', 'pop rap', 'southern hip hop', 'trap music', 'crunk', 'dirty south rap', 'southern hip hop', 'chicano rap', 'latin hip hop', 'hip pop', 'pop rap', 'crunk', 'dirty south rap', 'southern hip hop', 'trap music', 'juggalo', 'hip pop', 'hip pop', 'chicano rap', 'jerk', 'deep trap', 'chicano rap', 'freestyle']\n",
      "Current artist has: []\n",
      "ALL GENRES WE'VE HEARD OF: ['dirty south rap', 'pop rap', 'southern hip hop', 'trap music', 'crunk', 'dirty south rap', 'southern hip hop', 'chicano rap', 'latin hip hop', 'hip pop', 'pop rap', 'crunk', 'dirty south rap', 'southern hip hop', 'trap music', 'juggalo', 'hip pop', 'hip pop', 'chicano rap', 'jerk', 'deep trap', 'chicano rap', 'freestyle']\n",
      "Current artist has: []\n",
      "ALL GENRES WE'VE HEARD OF: ['dirty south rap', 'pop rap', 'southern hip hop', 'trap music', 'crunk', 'dirty south rap', 'southern hip hop', 'chicano rap', 'latin hip hop', 'hip pop', 'pop rap', 'crunk', 'dirty south rap', 'southern hip hop', 'trap music', 'juggalo', 'hip pop', 'hip pop', 'chicano rap', 'jerk', 'deep trap', 'chicano rap', 'freestyle']\n",
      "Current artist has: ['soca']\n",
      "ALL GENRES WE'VE HEARD OF: ['dirty south rap', 'pop rap', 'southern hip hop', 'trap music', 'crunk', 'dirty south rap', 'southern hip hop', 'chicano rap', 'latin hip hop', 'hip pop', 'pop rap', 'crunk', 'dirty south rap', 'southern hip hop', 'trap music', 'juggalo', 'hip pop', 'hip pop', 'chicano rap', 'jerk', 'deep trap', 'chicano rap', 'freestyle', 'soca']\n",
      "Current artist has: []\n",
      "ALL GENRES WE'VE HEARD OF: ['dirty south rap', 'pop rap', 'southern hip hop', 'trap music', 'crunk', 'dirty south rap', 'southern hip hop', 'chicano rap', 'latin hip hop', 'hip pop', 'pop rap', 'crunk', 'dirty south rap', 'southern hip hop', 'trap music', 'juggalo', 'hip pop', 'hip pop', 'chicano rap', 'jerk', 'deep trap', 'chicano rap', 'freestyle', 'soca']\n",
      "Current artist has: []\n",
      "ALL GENRES WE'VE HEARD OF: ['dirty south rap', 'pop rap', 'southern hip hop', 'trap music', 'crunk', 'dirty south rap', 'southern hip hop', 'chicano rap', 'latin hip hop', 'hip pop', 'pop rap', 'crunk', 'dirty south rap', 'southern hip hop', 'trap music', 'juggalo', 'hip pop', 'hip pop', 'chicano rap', 'jerk', 'deep trap', 'chicano rap', 'freestyle', 'soca']\n",
      "Current artist has: []\n",
      "ALL GENRES WE'VE HEARD OF: ['dirty south rap', 'pop rap', 'southern hip hop', 'trap music', 'crunk', 'dirty south rap', 'southern hip hop', 'chicano rap', 'latin hip hop', 'hip pop', 'pop rap', 'crunk', 'dirty south rap', 'southern hip hop', 'trap music', 'juggalo', 'hip pop', 'hip pop', 'chicano rap', 'jerk', 'deep trap', 'chicano rap', 'freestyle', 'soca']\n",
      "Current artist has: ['crunk', 'dirty south rap']\n",
      "ALLL THE GENRES WE'VE HEARD OF, FINALLY, AT THE END:\n",
      "['dirty south rap', 'pop rap', 'southern hip hop', 'trap music', 'crunk', 'dirty south rap', 'southern hip hop', 'chicano rap', 'latin hip hop', 'hip pop', 'pop rap', 'crunk', 'dirty south rap', 'southern hip hop', 'trap music', 'juggalo', 'hip pop', 'hip pop', 'chicano rap', 'jerk', 'deep trap', 'chicano rap', 'freestyle', 'soca', 'crunk', 'dirty south rap']\n"
     ]
    }
   ],
   "source": [
    "# AGGREGATION PROBLEM\n",
    "all_genres = []\n",
    "# THE LOOP\n",
    "for artist in artists:\n",
    "    print (\"ALL GENRES WE'VE HEARD OF:\", all_genres)\n",
    "    # THE CONDITIONAL: none\n",
    "    print(\"Current artist has:\", artist['genres'])\n",
    "    all_genres = all_genres + artist['genres']\n",
    "print (\"ALLL THE GENRES WE'VE HEARD OF, FINALLY, AT THE END:\")\n",
    "# Has repeats\n",
    "print (all_genres)\n",
    "\n",
    "# your_list = ['a', 'b', 'c', 'c', 'c']\n",
    "# your_list.count('a') = 1\n",
    "# your_list.count('c') = 3\n"
   ]
  },
  {
   "cell_type": "code",
   "execution_count": 52,
   "metadata": {
    "collapsed": false
   },
   "outputs": [
    {
     "name": "stdout",
     "output_type": "stream",
     "text": [
      "dirty south rap shows up 4 times\n",
      "pop rap shows up 2 times\n",
      "southern hip hop shows up 3 times\n",
      "trap music shows up 2 times\n",
      "crunk shows up 3 times\n",
      "dirty south rap shows up 4 times\n",
      "southern hip hop shows up 3 times\n",
      "chicano rap shows up 3 times\n",
      "latin hip hop shows up 1 times\n",
      "hip pop shows up 3 times\n",
      "pop rap shows up 2 times\n",
      "crunk shows up 3 times\n",
      "dirty south rap shows up 4 times\n",
      "southern hip hop shows up 3 times\n",
      "trap music shows up 2 times\n",
      "juggalo shows up 1 times\n",
      "hip pop shows up 3 times\n",
      "hip pop shows up 3 times\n",
      "chicano rap shows up 3 times\n",
      "jerk shows up 1 times\n",
      "deep trap shows up 1 times\n",
      "chicano rap shows up 3 times\n",
      "freestyle shows up 1 times\n",
      "soca shows up 1 times\n",
      "crunk shows up 3 times\n",
      "dirty south rap shows up 4 times\n"
     ]
    }
   ],
   "source": [
    "# This is bad becuase of the duplicates\n",
    "\n",
    "for genre in all_genres:\n",
    "    genre_count = all_genres.count(genre)\n",
    "    print(genre, \"shows up\", genre_count, \"times\")"
   ]
  },
  {
   "cell_type": "code",
   "execution_count": 54,
   "metadata": {
    "collapsed": false
   },
   "outputs": [
    {
     "name": "stdout",
     "output_type": "stream",
     "text": [
      "hip pop shows up 3 times\n",
      "trap music shows up 2 times\n",
      "juggalo shows up 1 times\n",
      "soca shows up 1 times\n",
      "crunk shows up 3 times\n",
      "dirty south rap shows up 4 times\n",
      "latin hip hop shows up 1 times\n",
      "deep trap shows up 1 times\n",
      "pop rap shows up 2 times\n",
      "chicano rap shows up 3 times\n",
      "jerk shows up 1 times\n",
      "southern hip hop shows up 3 times\n",
      "freestyle shows up 1 times\n"
     ]
    }
   ],
   "source": [
    "# We need a UNIQUE list of all_genres, a.k.a. a list\n",
    "# with all duplicates removed\n",
    "# unique_list = set(list_with_duplicates)\n",
    "unique_genres = set(all_genres)\n",
    "for genre in unique_genres:\n",
    "    genre_count = all_genres.count(genre)\n",
    "    print(genre, \"shows up\", genre_count, \"times\")"
   ]
  },
  {
   "cell_type": "code",
   "execution_count": 59,
   "metadata": {
    "collapsed": false
   },
   "outputs": [
    {
     "data": {
      "text/plain": [
       "[('dirty south rap', 4), ('hip pop', 3), ('crunk', 3), ('southern hip hop', 3)]"
      ]
     },
     "execution_count": 59,
     "metadata": {},
     "output_type": "execute_result"
    }
   ],
   "source": [
    "# There is a library that comes with Python called COLLECTIONS!\n",
    "# Inside of it is a magic thing alled Counter\n",
    "\n",
    "# import collections\n",
    "from collections import Counter\n",
    "# all_genres = ['sourthern hip hop', 'souther hip hop', 'crunk', ]\n",
    "counts = Counter(all_genres) #looks like dictionary # import collection -> collection.Counter\n",
    "counts['crunk'] #so we can do this\n",
    "counts.most_common(4)\n"
   ]
  },
  {
   "cell_type": "markdown",
   "metadata": {},
   "source": [
    "3) Use a for loop to determine who BESIDES Lil Wayne has the highest popularity rating. Is it the same artist who has the largest number of followers?"
   ]
  },
  {
   "cell_type": "code",
   "execution_count": 32,
   "metadata": {
    "collapsed": false
   },
   "outputs": [
    {
     "name": "stdout",
     "output_type": "stream",
     "text": [
      "Looking at Lil Wayne who has popularity score of 86\n",
      "Comparing 86 to 0\n",
      "FOUND NEW MOST POPULAR, checking to see if it's Lil Wayne\n",
      "Nice try Lil Wayne, we don't care\n",
      "Looking at Lil Yachty who has popularity score of 72\n",
      "Comparing 72 to 0\n",
      "FOUND NEW MOST POPULAR, checking to see if it's Lil Wayne\n",
      "NEW POPULAR! Updating our notebook\n",
      "Looking at Lil Uzi Vert who has popularity score of 72\n",
      "Comparing 72 to 72\n",
      "Looking at Lil Dicky who has popularity score of 68\n",
      "Comparing 68 to 72\n",
      "Looking at Boosie Badazz who has popularity score of 67\n",
      "Comparing 67 to 72\n",
      "Looking at Lil Jon who has popularity score of 72\n",
      "Comparing 72 to 72\n",
      "Looking at King Lil G who has popularity score of 61\n",
      "Comparing 61 to 72\n",
      "Looking at Lil Durk who has popularity score of 60\n",
      "Comparing 60 to 72\n",
      "Looking at Lil Jon & The East Side Boyz who has popularity score of 60\n",
      "Comparing 60 to 72\n",
      "Looking at Lil Bibby who has popularity score of 54\n",
      "Comparing 54 to 72\n",
      "Looking at G Herbo who has popularity score of 53\n",
      "Comparing 53 to 72\n",
      "Looking at Lil Rob who has popularity score of 50\n",
      "Comparing 50 to 72\n",
      "Looking at Lil Reese who has popularity score of 50\n",
      "Comparing 50 to 72\n",
      "Looking at Lil Keke who has popularity score of 48\n",
      "Comparing 48 to 72\n",
      "Looking at Bow Wow who has popularity score of 57\n",
      "Comparing 57 to 72\n",
      "Looking at Lil Scrappy who has popularity score of 48\n",
      "Comparing 48 to 72\n",
      "Looking at Lil Wyte who has popularity score of 50\n",
      "Comparing 50 to 72\n",
      "Looking at Lil Blood who has popularity score of 45\n",
      "Comparing 45 to 72\n",
      "Looking at Lil Snupe who has popularity score of 45\n",
      "Comparing 45 to 72\n",
      "Looking at Lil Mama who has popularity score of 45\n",
      "Comparing 45 to 72\n",
      "Looking at Lil B who has popularity score of 44\n",
      "Comparing 44 to 72\n",
      "Looking at Lil' Kim who has popularity score of 62\n",
      "Comparing 62 to 72\n",
      "Looking at Lil Cuete who has popularity score of 40\n",
      "Comparing 40 to 72\n",
      "Looking at Lil Phat who has popularity score of 39\n",
      "Comparing 39 to 72\n",
      "Looking at Lil Debbie who has popularity score of 43\n",
      "Comparing 43 to 72\n",
      "Looking at Lil Twist who has popularity score of 39\n",
      "Comparing 39 to 72\n",
      "Looking at Lil Trill who has popularity score of 37\n",
      "Comparing 37 to 72\n",
      "Looking at Lil Twon who has popularity score of 38\n",
      "Comparing 38 to 72\n",
      "Looking at Lil AJ who has popularity score of 37\n",
      "Comparing 37 to 72\n",
      "Looking at Lil Lonnie who has popularity score of 37\n",
      "Comparing 37 to 72\n",
      "Looking at Lil Boom who has popularity score of 35\n",
      "Comparing 35 to 72\n",
      "Looking at Lil Goofy who has popularity score of 35\n",
      "Comparing 35 to 72\n",
      "Looking at Mr. Lil One who has popularity score of 36\n",
      "Comparing 36 to 72\n",
      "Looking at Lil Haiti who has popularity score of 36\n",
      "Comparing 36 to 72\n",
      "Looking at Lil Flash who has popularity score of 38\n",
      "Comparing 38 to 72\n",
      "Looking at Lil Kesh who has popularity score of 39\n",
      "Comparing 39 to 72\n",
      "Looking at Lil Cray who has popularity score of 35\n",
      "Comparing 35 to 72\n",
      "Looking at Lil Silva who has popularity score of 43\n",
      "Comparing 43 to 72\n",
      "Looking at Lil Rue who has popularity score of 34\n",
      "Comparing 34 to 72\n",
      "Looking at Lil Eddie who has popularity score of 41\n",
      "Comparing 41 to 72\n",
      "Looking at Lil Yase who has popularity score of 33\n",
      "Comparing 33 to 72\n",
      "Looking at Lil Wayne, DJ Drama who has popularity score of 35\n",
      "Comparing 35 to 72\n",
      "Looking at Lil Suzy who has popularity score of 34\n",
      "Comparing 34 to 72\n",
      "Looking at Lil Mouse who has popularity score of 34\n",
      "Comparing 34 to 72\n",
      "Looking at Lil C who has popularity score of 33\n",
      "Comparing 33 to 72\n",
      "Looking at Lil Rick who has popularity score of 39\n",
      "Comparing 39 to 72\n",
      "Looking at Lil June who has popularity score of 32\n",
      "Comparing 32 to 72\n",
      "Looking at Lil E who has popularity score of 34\n",
      "Comparing 34 to 72\n",
      "Looking at Lil Fate who has popularity score of 34\n",
      "Comparing 34 to 72\n",
      "Looking at Lil' Flip who has popularity score of 49\n",
      "Comparing 49 to 72\n",
      "+++++++++++++++++++++++\n",
      "Lil Yachty 72\n"
     ]
    }
   ],
   "source": [
    "most_popular_name = \"\"\n",
    "most_popular_score = 0\n",
    "for artist in artists:\n",
    "    print (\"Looking at\", artist['name'], \"who has popularity score of\", artist['popularity'])\n",
    "    # THE CONDITIONAL\n",
    "    # a.k.a. what you are testing\n",
    "    print (\"Comparing\", artist['popularity'], \"to\", most_popular_score)\n",
    "    if artist['popularity'] > most_popular_score:\n",
    "        print (\"FOUND NEW MOST POPULAR, checking to see if it's Lil Wayne\")\n",
    "        # Seeing if it's actually Lil Wayne\n",
    "        if artist['name'] == \"Lil Wayne\":\n",
    "            print (\"Nice try Lil Wayne, we don't care\")\n",
    "        # THE CHANGE\n",
    "        # a.k.a. what you're keeping track of\n",
    "        else:\n",
    "            print (\"NEW POPULAR! Updating our notebook\")\n",
    "            most_popular_name = artist['name']\n",
    "            most_popular_score = artist['popularity']\n",
    "print (\"+++++++++++++++++++++++\")\n",
    "print(most_popular_name, most_popular_score)"
   ]
  },
  {
   "cell_type": "code",
   "execution_count": 41,
   "metadata": {
    "collapsed": false
   },
   "outputs": [
    {
     "name": "stdout",
     "output_type": "stream",
     "text": [
      "Looking at Lil Wayne who has a popularity of 86\n",
      "Looking at Lil Yachty who has a popularity of 72\n",
      "!!!!!! The artist's popularity is 72\n",
      "Looking at Lil Uzi Vert who has a popularity of 72\n",
      "!!!!!! The artist's popularity is 72\n",
      "Looking at Lil Dicky who has a popularity of 68\n",
      "Looking at Boosie Badazz who has a popularity of 67\n",
      "Looking at Lil Jon who has a popularity of 72\n",
      "!!!!!! The artist's popularity is 72\n",
      "Looking at King Lil G who has a popularity of 61\n",
      "Looking at Lil Durk who has a popularity of 60\n",
      "Looking at Lil Jon & The East Side Boyz who has a popularity of 60\n",
      "Looking at Lil Bibby who has a popularity of 54\n",
      "Looking at G Herbo who has a popularity of 53\n",
      "Looking at Lil Rob who has a popularity of 50\n",
      "Looking at Lil Reese who has a popularity of 50\n",
      "Looking at Lil Keke who has a popularity of 48\n",
      "Looking at Bow Wow who has a popularity of 57\n",
      "Looking at Lil Scrappy who has a popularity of 48\n",
      "Looking at Lil Wyte who has a popularity of 50\n",
      "Looking at Lil Blood who has a popularity of 45\n",
      "Looking at Lil Snupe who has a popularity of 45\n",
      "Looking at Lil Mama who has a popularity of 45\n",
      "Looking at Lil B who has a popularity of 44\n",
      "Looking at Lil' Kim who has a popularity of 62\n",
      "Looking at Lil Cuete who has a popularity of 40\n",
      "Looking at Lil Phat who has a popularity of 39\n",
      "Looking at Lil Debbie who has a popularity of 43\n",
      "Looking at Lil Twist who has a popularity of 39\n",
      "Looking at Lil Trill who has a popularity of 37\n",
      "Looking at Lil Twon who has a popularity of 38\n",
      "Looking at Lil AJ who has a popularity of 37\n",
      "Looking at Lil Lonnie who has a popularity of 37\n",
      "Looking at Lil Boom who has a popularity of 35\n",
      "Looking at Lil Goofy who has a popularity of 35\n",
      "Looking at Mr. Lil One who has a popularity of 36\n",
      "Looking at Lil Haiti who has a popularity of 36\n",
      "Looking at Lil Flash who has a popularity of 38\n",
      "Looking at Lil Kesh who has a popularity of 39\n",
      "Looking at Lil Cray who has a popularity of 35\n",
      "Looking at Lil Silva who has a popularity of 43\n",
      "Looking at Lil Rue who has a popularity of 34\n",
      "Looking at Lil Eddie who has a popularity of 41\n",
      "Looking at Lil Yase who has a popularity of 33\n",
      "Looking at Lil Wayne, DJ Drama who has a popularity of 35\n",
      "Looking at Lil Suzy who has a popularity of 34\n",
      "Looking at Lil Mouse who has a popularity of 34\n",
      "Looking at Lil C who has a popularity of 33\n",
      "Looking at Lil Rick who has a popularity of 39\n",
      "Looking at Lil June who has a popularity of 32\n",
      "Looking at Lil E who has a popularity of 34\n",
      "Looking at Lil Fate who has a popularity of 34\n",
      "Looking at Lil' Flip who has a popularity of 49\n",
      "OUR SECOND BEST ARTISTS ARE:\n"
     ]
    },
    {
     "ename": "TypeError",
     "evalue": "string indices must be integers",
     "output_type": "error",
     "traceback": [
      "\u001b[0;31m---------------------------------------------------------------------------\u001b[0m",
      "\u001b[0;31mTypeError\u001b[0m                                 Traceback (most recent call last)",
      "\u001b[0;32m<ipython-input-41-0690d2398079>\u001b[0m in \u001b[0;36m<module>\u001b[0;34m()\u001b[0m\n\u001b[1;32m     20\u001b[0m \u001b[0mprint\u001b[0m \u001b[0;34m(\u001b[0m\u001b[0;34m\"OUR SECOND BEST ARTISTS ARE:\"\u001b[0m\u001b[0;34m)\u001b[0m\u001b[0;34m\u001b[0m\u001b[0m\n\u001b[1;32m     21\u001b[0m \u001b[0;32mfor\u001b[0m \u001b[0martist\u001b[0m \u001b[0;32min\u001b[0m \u001b[0msecond_best_artists\u001b[0m\u001b[0;34m:\u001b[0m\u001b[0;34m\u001b[0m\u001b[0m\n\u001b[0;32m---> 22\u001b[0;31m     \u001b[0mprint\u001b[0m\u001b[0;34m(\u001b[0m\u001b[0martist\u001b[0m\u001b[0;34m[\u001b[0m\u001b[0;34m'name'\u001b[0m\u001b[0;34m]\u001b[0m\u001b[0;34m)\u001b[0m\u001b[0;34m\u001b[0m\u001b[0m\n\u001b[0m",
      "\u001b[0;31mTypeError\u001b[0m: string indices must be integers"
     ]
    }
   ],
   "source": [
    "target_score = 72\n",
    "# 1: INITIAL CONDITION\n",
    "# We have no one who is in our list yet\n",
    "second_best_artists = []\n",
    "\n",
    "# AGGREGATION PROBLEM\n",
    "# When you're looking through a series of serious objects\n",
    "# and sometimes you want to add one of those objects\n",
    "# to a DIFFERENT list\n",
    "for artist in artists:\n",
    "    print (\"Looking at\", artist['name'], \"who has a popularity of\", artist['popularity'])\n",
    "    # 2: CONDITIONAL\n",
    "    # When we want to add someone to our list\n",
    "    if artist['popularity'] == 72:\n",
    "        print (\"!!!!!! The artist's popularity is 72\")\n",
    "        # 3: THE CHANGE\n",
    "        # Add that artist to our list\n",
    "        # .append(newthing) is how we do that in Python\n",
    "        second_best_artists.append(artist['name'])\n",
    "print (\"OUR SECOND BEST ARTISTS ARE:\")\n",
    "for artist in second_best_artists:\n",
    "    print(artist['name'])"
   ]
  },
  {
   "cell_type": "markdown",
   "metadata": {},
   "source": [
    "4) Print a list of Lil's that are more popular than Lil' Kim."
   ]
  },
  {
   "cell_type": "code",
   "execution_count": 43,
   "metadata": {
    "collapsed": false
   },
   "outputs": [
    {
     "name": "stdout",
     "output_type": "stream",
     "text": [
      "Looking at Lil Wayne\n",
      "Looking at Lil Yachty\n",
      "Looking at Lil Uzi Vert\n",
      "Looking at Lil Dicky\n",
      "Looking at Boosie Badazz\n",
      "Looking at Lil Jon\n",
      "Looking at King Lil G\n",
      "Looking at Lil Durk\n",
      "Looking at Lil Jon & The East Side Boyz\n",
      "Looking at Lil Bibby\n",
      "Looking at G Herbo\n",
      "Looking at Lil Rob\n",
      "Looking at Lil Reese\n",
      "Looking at Lil Keke\n",
      "Looking at Bow Wow\n",
      "Looking at Lil Scrappy\n",
      "Looking at Lil Wyte\n",
      "Looking at Lil Blood\n",
      "Looking at Lil Snupe\n",
      "Looking at Lil Mama\n",
      "Looking at Lil B\n",
      "Looking at Lil' Kim\n",
      "Found Lil Kim\n",
      "62\n",
      "Looking at Lil Cuete\n",
      "Looking at Lil Phat\n",
      "Looking at Lil Debbie\n",
      "Looking at Lil Twist\n",
      "Looking at Lil Trill\n",
      "Looking at Lil Twon\n",
      "Looking at Lil AJ\n",
      "Looking at Lil Lonnie\n",
      "Looking at Lil Boom\n",
      "Looking at Lil Goofy\n",
      "Looking at Mr. Lil One\n",
      "Looking at Lil Haiti\n",
      "Looking at Lil Flash\n",
      "Looking at Lil Kesh\n",
      "Looking at Lil Cray\n",
      "Looking at Lil Silva\n",
      "Looking at Lil Rue\n",
      "Looking at Lil Eddie\n",
      "Looking at Lil Yase\n",
      "Looking at Lil Wayne, DJ Drama\n",
      "Looking at Lil Suzy\n",
      "Looking at Lil Mouse\n",
      "Looking at Lil C\n",
      "Looking at Lil Rick\n",
      "Looking at Lil June\n",
      "Looking at Lil E\n",
      "Looking at Lil Fate\n",
      "Looking at Lil' Flip\n"
     ]
    }
   ],
   "source": [
    "for artist in artists:\n",
    "    # print (\"Looking at\", artist['name'])\n",
    "    print\n",
    "    if artist['name'] == \"Lil' Kim\":\n",
    "        print ('Found Lil Kim')\n",
    "        print(artist['popularity'])\n",
    "    else:\n",
    "        pass\n",
    "        # print(\"Not Lil Kim\")\n",
    "    "
   ]
  },
  {
   "cell_type": "code",
   "execution_count": 45,
   "metadata": {
    "collapsed": false
   },
   "outputs": [
    {
     "name": "stdout",
     "output_type": "stream",
     "text": [
      "Lil Wayne is MORE POPULAR with a socre of 86\n",
      "Lil Yachty is MORE POPULAR with a socre of 72\n",
      "Lil Uzi Vert is MORE POPULAR with a socre of 72\n",
      "Lil Dicky is MORE POPULAR with a socre of 68\n",
      "Boosie Badazz is MORE POPULAR with a socre of 67\n",
      "Lil Jon is MORE POPULAR with a socre of 72\n",
      "King Lil G is less popular with a socre of 61\n",
      "Lil Durk is less popular with a socre of 60\n",
      "Lil Jon & The East Side Boyz is less popular with a socre of 60\n",
      "Lil Bibby is less popular with a socre of 54\n",
      "G Herbo is less popular with a socre of 53\n",
      "Lil Rob is less popular with a socre of 50\n",
      "Lil Reese is less popular with a socre of 50\n",
      "Lil Keke is less popular with a socre of 48\n",
      "Bow Wow is less popular with a socre of 57\n",
      "Lil Scrappy is less popular with a socre of 48\n",
      "Lil Wyte is less popular with a socre of 50\n",
      "Lil Blood is less popular with a socre of 45\n",
      "Lil Snupe is less popular with a socre of 45\n",
      "Lil Mama is less popular with a socre of 45\n",
      "Lil B is less popular with a socre of 44\n",
      "Lil' Kim is less popular with a socre of 62\n",
      "Lil Cuete is less popular with a socre of 40\n",
      "Lil Phat is less popular with a socre of 39\n",
      "Lil Debbie is less popular with a socre of 43\n",
      "Lil Twist is less popular with a socre of 39\n",
      "Lil Trill is less popular with a socre of 37\n",
      "Lil Twon is less popular with a socre of 38\n",
      "Lil AJ is less popular with a socre of 37\n",
      "Lil Lonnie is less popular with a socre of 37\n",
      "Lil Boom is less popular with a socre of 35\n",
      "Lil Goofy is less popular with a socre of 35\n",
      "Mr. Lil One is less popular with a socre of 36\n",
      "Lil Haiti is less popular with a socre of 36\n",
      "Lil Flash is less popular with a socre of 38\n",
      "Lil Kesh is less popular with a socre of 39\n",
      "Lil Cray is less popular with a socre of 35\n",
      "Lil Silva is less popular with a socre of 43\n",
      "Lil Rue is less popular with a socre of 34\n",
      "Lil Eddie is less popular with a socre of 41\n",
      "Lil Yase is less popular with a socre of 33\n",
      "Lil Wayne, DJ Drama is less popular with a socre of 35\n",
      "Lil Suzy is less popular with a socre of 34\n",
      "Lil Mouse is less popular with a socre of 34\n",
      "Lil C is less popular with a socre of 33\n",
      "Lil Rick is less popular with a socre of 39\n",
      "Lil June is less popular with a socre of 32\n",
      "Lil E is less popular with a socre of 34\n",
      "Lil Fate is less popular with a socre of 34\n",
      "Lil' Flip is less popular with a socre of 49\n"
     ]
    }
   ],
   "source": [
    "lil_kim_popularity = 62\n",
    "# AGGREGATION PROBLEM\n",
    "more_popular_than_lil_kim = []\n",
    "\n",
    "# THE LOOP\n",
    "for artist in artists:\n",
    "    # THE CONDITIONAL is the artist more popular than lil kim?\n",
    "    if artist['popularity'] > lil_kim_popularity:\n",
    "        # IF yes, let's add them to our list\n",
    "        print (artist['name'], \"is MORE POPULAR with a socre of\", artist['popularity'])\n",
    "        more_popular_than_lil_kim.append(artist['name'])\n",
    "    else:\n",
    "        print(artist['name'], \"is less popular with a socre of\", artist['popularity'])\n",
    "print (\"++++++++++++++ MORE POPULAR THAN LIL KIM\")"
   ]
  },
  {
   "cell_type": "code",
   "execution_count": 47,
   "metadata": {
    "collapsed": false
   },
   "outputs": [
    {
     "name": "stdout",
     "output_type": "stream",
     "text": [
      "Lil Wayne\n",
      "Lil Yachty\n",
      "Lil Uzi Vert\n",
      "Lil Dicky\n",
      "Boosie Badazz\n",
      "Lil Jon\n",
      "Artists more popular than Lil' Kim are: Lil Wayne, Lil Yachty, Lil Uzi Vert, Lil Dicky, Boosie Badazz, Lil Jon\n"
     ]
    }
   ],
   "source": [
    "for artist_name in more_popular_than_lil_kim:\n",
    "    print (artist_name)\n",
    "\n",
    "more_popular_string = \", \".join(more_popular_than_lil_kim)\n",
    "print (\"Artists more popular than Lil' Kim are:\", more_popular_string)\n",
    "    "
   ]
  },
  {
   "cell_type": "markdown",
   "metadata": {},
   "source": [
    "## How to automate getting all of the results"
   ]
  },
  {
   "cell_type": "code",
   "execution_count": 73,
   "metadata": {
    "collapsed": true
   },
   "outputs": [],
   "source": [
    "response = requests.get('https://api.spotify.com/v1/search?q=lil&type=artist&?country=US&limit=50')\n",
    "small_data = response.json()"
   ]
  },
  {
   "cell_type": "code",
   "execution_count": 74,
   "metadata": {
    "collapsed": false
   },
   "outputs": [
    {
     "name": "stdout",
     "output_type": "stream",
     "text": [
      "50\n",
      "4502\n"
     ]
    }
   ],
   "source": [
    "small_data['artists']\n",
    "print (len(small_data['artists']['items'])) # we only get 10 artists\n",
    "print(data['artists']['total'])"
   ]
  },
  {
   "cell_type": "code",
   "execution_count": 80,
   "metadata": {
    "collapsed": false
   },
   "outputs": [
    {
     "data": {
      "text/plain": [
       "91"
      ]
     },
     "execution_count": 80,
     "metadata": {},
     "output_type": "execute_result"
    }
   ],
   "source": [
    "import math\n",
    "#response = requests.get('https://api.spotify.com/v1/search?q=lil&type=artist&limit=50')\n",
    "#small_data = response.json()\n",
    "page_count = math.ceil(4502/50)\n",
    "page_count"
   ]
  },
  {
   "cell_type": "code",
   "execution_count": null,
   "metadata": {
    "collapsed": true
   },
   "outputs": [],
   "source": [
    "list(range(0,91))"
   ]
  },
  {
   "cell_type": "code",
   "execution_count": 82,
   "metadata": {
    "collapsed": false
   },
   "outputs": [
    {
     "name": "stdout",
     "output_type": "stream",
     "text": [
      "we are on page 1 with an offset of 0\n",
      "we are on page 2 with an offset of 50\n",
      "we are on page 3 with an offset of 100\n",
      "we are on page 4 with an offset of 150\n",
      "we are on page 5 with an offset of 200\n",
      "we are on page 6 with an offset of 250\n",
      "we are on page 7 with an offset of 300\n",
      "we are on page 8 with an offset of 350\n",
      "we are on page 9 with an offset of 400\n",
      "we are on page 10 with an offset of 450\n",
      "we are on page 11 with an offset of 500\n",
      "we are on page 12 with an offset of 550\n",
      "we are on page 13 with an offset of 600\n",
      "we are on page 14 with an offset of 650\n",
      "we are on page 15 with an offset of 700\n",
      "we are on page 16 with an offset of 750\n",
      "we are on page 17 with an offset of 800\n",
      "we are on page 18 with an offset of 850\n",
      "we are on page 19 with an offset of 900\n",
      "we are on page 20 with an offset of 950\n",
      "we are on page 21 with an offset of 1000\n",
      "we are on page 22 with an offset of 1050\n",
      "we are on page 23 with an offset of 1100\n",
      "we are on page 24 with an offset of 1150\n",
      "we are on page 25 with an offset of 1200\n",
      "we are on page 26 with an offset of 1250\n",
      "we are on page 27 with an offset of 1300\n",
      "we are on page 28 with an offset of 1350\n",
      "we are on page 29 with an offset of 1400\n",
      "we are on page 30 with an offset of 1450\n",
      "we are on page 31 with an offset of 1500\n",
      "we are on page 32 with an offset of 1550\n",
      "we are on page 33 with an offset of 1600\n",
      "we are on page 34 with an offset of 1650\n",
      "we are on page 35 with an offset of 1700\n",
      "we are on page 36 with an offset of 1750\n",
      "we are on page 37 with an offset of 1800\n",
      "we are on page 38 with an offset of 1850\n",
      "we are on page 39 with an offset of 1900\n",
      "we are on page 40 with an offset of 1950\n",
      "we are on page 41 with an offset of 2000\n",
      "we are on page 42 with an offset of 2050\n",
      "we are on page 43 with an offset of 2100\n",
      "we are on page 44 with an offset of 2150\n",
      "we are on page 45 with an offset of 2200\n",
      "we are on page 46 with an offset of 2250\n",
      "we are on page 47 with an offset of 2300\n",
      "we are on page 48 with an offset of 2350\n",
      "we are on page 49 with an offset of 2400\n",
      "we are on page 50 with an offset of 2450\n",
      "we are on page 51 with an offset of 2500\n",
      "we are on page 52 with an offset of 2550\n",
      "we are on page 53 with an offset of 2600\n",
      "we are on page 54 with an offset of 2650\n",
      "we are on page 55 with an offset of 2700\n",
      "we are on page 56 with an offset of 2750\n",
      "we are on page 57 with an offset of 2800\n",
      "we are on page 58 with an offset of 2850\n",
      "we are on page 59 with an offset of 2900\n",
      "we are on page 60 with an offset of 2950\n",
      "we are on page 61 with an offset of 3000\n",
      "we are on page 62 with an offset of 3050\n",
      "we are on page 63 with an offset of 3100\n",
      "we are on page 64 with an offset of 3150\n",
      "we are on page 65 with an offset of 3200\n",
      "we are on page 66 with an offset of 3250\n",
      "we are on page 67 with an offset of 3300\n",
      "we are on page 68 with an offset of 3350\n",
      "we are on page 69 with an offset of 3400\n",
      "we are on page 70 with an offset of 3450\n",
      "we are on page 71 with an offset of 3500\n",
      "we are on page 72 with an offset of 3550\n",
      "we are on page 73 with an offset of 3600\n",
      "we are on page 74 with an offset of 3650\n",
      "we are on page 75 with an offset of 3700\n",
      "we are on page 76 with an offset of 3750\n",
      "we are on page 77 with an offset of 3800\n",
      "we are on page 78 with an offset of 3850\n",
      "we are on page 79 with an offset of 3900\n",
      "we are on page 80 with an offset of 3950\n",
      "we are on page 81 with an offset of 4000\n",
      "we are on page 82 with an offset of 4050\n",
      "we are on page 83 with an offset of 4100\n",
      "we are on page 84 with an offset of 4150\n",
      "we are on page 85 with an offset of 4200\n",
      "we are on page 86 with an offset of 4250\n",
      "we are on page 87 with an offset of 4300\n",
      "we are on page 88 with an offset of 4350\n",
      "we are on page 89 with an offset of 4400\n",
      "we are on page 90 with an offset of 4450\n",
      "we are on page 91 with an offset of 4500\n",
      "successfully retrived 0 artists\n"
     ]
    }
   ],
   "source": [
    "# First Page: artists 1-50\n",
    "# 'https://api.spotify.com/v1/search?q=lil&type=artist&limit=50'\n",
    "# Second Page:  artists 51-100, offset of 50\n",
    "# 'https://api.spotify.com/v1/search?q=lil&type=artist&limit=50&offset=50'\n",
    "# Third Page: artists 101-150\n",
    "# 'https://api.spotify.com/v1/search?q=lil&type=artist&limit=50&offset=100'\n",
    "# Forth Page: artists 151-200\n",
    "# 'https://api.spotify.com/v1/search?q=lil&type=artist&limit=50&offset=150'\n",
    "all_artists = []\n",
    "for page in range(91):\n",
    "    offset = (page*50)\n",
    "    print (\"we are on page\", page+1, \"with an offset of\", offset)\n",
    "    # make the request with a changed offset ?offset={offset}\n",
    "    # data  = response.json()\n",
    "    # add our new artists to our list of existing artists\n",
    "    # all_artists = all_artists + data['artists']['items']\n",
    "print (\"successfully retrived\", len(all_artists), \"artists\")"
   ]
  },
  {
   "cell_type": "code",
   "execution_count": null,
   "metadata": {
    "collapsed": true
   },
   "outputs": [],
   "source": [
    "response = request.get('')\n"
   ]
  }
 ],
 "metadata": {
  "kernelspec": {
   "display_name": "Python 3",
   "language": "python",
   "name": "python3"
  },
  "language_info": {
   "codemirror_mode": {
    "name": "ipython",
    "version": 3
   },
   "file_extension": ".py",
   "mimetype": "text/x-python",
   "name": "python",
   "nbconvert_exporter": "python",
   "pygments_lexer": "ipython3",
   "version": "3.5.1"
  }
 },
 "nbformat": 4,
 "nbformat_minor": 0
}
